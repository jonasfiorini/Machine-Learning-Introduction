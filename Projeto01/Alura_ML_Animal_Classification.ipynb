{
  "nbformat": 4,
  "nbformat_minor": 0,
  "metadata": {
    "colab": {
      "name": "Alura_ML - Animal Classification.ipynb",
      "provenance": [],
      "authorship_tag": "ABX9TyN9d4Ts4kt0VRs9W4+OHimI",
      "include_colab_link": true
    },
    "kernelspec": {
      "name": "python3",
      "display_name": "Python 3"
    }
  },
  "cells": [
    {
      "cell_type": "markdown",
      "metadata": {
        "id": "view-in-github",
        "colab_type": "text"
      },
      "source": [
        "<a href=\"https://colab.research.google.com/github/jonasfiorini/Machine-Learning-Introduction/blob/master/Projeto01/Alura_ML_Animal_Classification.ipynb\" target=\"_parent\"><img src=\"https://colab.research.google.com/assets/colab-badge.svg\" alt=\"Open In Colab\"/></a>"
      ]
    },
    {
      "cell_type": "code",
      "metadata": {
        "id": "A1UkOPAEXzAh",
        "colab_type": "code",
        "colab": {}
      },
      "source": [
        "#features (1 => sim, 0 => não)\n",
        "# pelo longo?\n",
        "# perna curta?\n",
        "# faz auau?\n",
        "porco1 = [0,1,0]\n",
        "porco2 = [0,1,1]\n",
        "porco3 = [1,1,0]\n",
        "\n",
        "dog1 = [0,1,1]\n",
        "dog2 = [1,0,1]\n",
        "dog3 = [1,1,1]\n",
        "\n",
        "#1 => porco; 0=> cachorro\n",
        "train_x = [porco1, porco2, porco3, dog1, dog2, dog3]\n",
        "train_y = [1,1,1,0,0,0] # labels"
      ],
      "execution_count": 1,
      "outputs": []
    },
    {
      "cell_type": "code",
      "metadata": {
        "id": "0YRrNBVzdIbO",
        "colab_type": "code",
        "colab": {
          "base_uri": "https://localhost:8080/",
          "height": 85
        },
        "outputId": "c5a193de-7b00-4691-ab1e-e065e869130f"
      },
      "source": [
        "from sklearn.svm import LinearSVC as svc\n",
        "\n",
        "model = svc()\n",
        "model.fit(train_x, train_y)"
      ],
      "execution_count": 2,
      "outputs": [
        {
          "output_type": "execute_result",
          "data": {
            "text/plain": [
              "LinearSVC(C=1.0, class_weight=None, dual=True, fit_intercept=True,\n",
              "          intercept_scaling=1, loss='squared_hinge', max_iter=1000,\n",
              "          multi_class='ovr', penalty='l2', random_state=None, tol=0.0001,\n",
              "          verbose=0)"
            ]
          },
          "metadata": {
            "tags": []
          },
          "execution_count": 2
        }
      ]
    },
    {
      "cell_type": "code",
      "metadata": {
        "id": "n-2yq2pidxo_",
        "colab_type": "code",
        "colab": {
          "base_uri": "https://localhost:8080/",
          "height": 34
        },
        "outputId": "7dbc4ba6-a3b7-4ec8-ac5a-40395bc4019d"
      },
      "source": [
        "animal_X = [1,1,1]\n",
        "model.predict([animal_X]) #Tem que ser uma lista porque é o que o predict espera"
      ],
      "execution_count": 3,
      "outputs": [
        {
          "output_type": "execute_result",
          "data": {
            "text/plain": [
              "array([0])"
            ]
          },
          "metadata": {
            "tags": []
          },
          "execution_count": 3
        }
      ]
    },
    {
      "cell_type": "code",
      "metadata": {
        "id": "xFlWIrx6d6tf",
        "colab_type": "code",
        "colab": {}
      },
      "source": [
        "misterio1 = [1,1,1] \n",
        "misterio2 = [1,1,0]\n",
        "misterio3 = [0,1,1]\n",
        "\n",
        "test_x = [misterio1, misterio2, misterio3]\n",
        "test_y = [0,1,1]"
      ],
      "execution_count": 4,
      "outputs": []
    },
    {
      "cell_type": "code",
      "metadata": {
        "id": "9jTFgaJkkjXB",
        "colab_type": "code",
        "colab": {}
      },
      "source": [
        "previsoes = model.predict(test_x) #SKLearn utiliza numpy, por isso resulta em array([])"
      ],
      "execution_count": 5,
      "outputs": []
    },
    {
      "cell_type": "code",
      "metadata": {
        "id": "OiTQ1Y_OfAcI",
        "colab_type": "code",
        "colab": {
          "base_uri": "https://localhost:8080/",
          "height": 34
        },
        "outputId": "ba2dc2ce-36a0-4b00-f950-a22723b1c338"
      },
      "source": [
        "corretos = (previsoes == test_y).sum()\n",
        "total = len(test_x)\n",
        "taxa_de_acerto = corretos/total\n",
        "print(\"Taxa de acerto: %.2f\" % (taxa_de_acerto * 100))"
      ],
      "execution_count": 9,
      "outputs": [
        {
          "output_type": "stream",
          "text": [
            "Taxa de acerto: 66.67\n"
          ],
          "name": "stdout"
        }
      ]
    },
    {
      "cell_type": "code",
      "metadata": {
        "id": "tXUrX-dVfHG-",
        "colab_type": "code",
        "colab": {
          "base_uri": "https://localhost:8080/",
          "height": 34
        },
        "outputId": "9c341a17-2cfc-43a7-c9bd-bc91eb38331e"
      },
      "source": [
        "from sklearn.metrics import accuracy_score\n",
        "\n",
        "taxa_de_acerto = accuracy_score(test_y, previsoes)\n",
        "print(\"Taxa de acerto: %.2f\" % (taxa_de_acerto * 100))"
      ],
      "execution_count": 10,
      "outputs": [
        {
          "output_type": "stream",
          "text": [
            "Taxa de acerto: 66.67\n"
          ],
          "name": "stdout"
        }
      ]
    },
    {
      "cell_type": "code",
      "metadata": {
        "id": "xkl_OTTzgXAj",
        "colab_type": "code",
        "colab": {}
      },
      "source": [
        ""
      ],
      "execution_count": 7,
      "outputs": []
    }
  ]
}